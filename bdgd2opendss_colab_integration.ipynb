{
  "nbformat": 4,
  "nbformat_minor": 0,
  "metadata": {
    "colab": {
      "provenance": [],
      "authorship_tag": "ABX9TyP6DPy3au/LEOnoglWoYsNU",
      "include_colab_link": true
    },
    "kernelspec": {
      "name": "python3",
      "display_name": "Python 3"
    },
    "language_info": {
      "name": "python"
    }
  },
  "cells": [
    {
      "cell_type": "markdown",
      "metadata": {
        "id": "view-in-github",
        "colab_type": "text"
      },
      "source": [
        "<a href=\"https://colab.research.google.com/github/BernardBernardes/colab_pipeline_integrations/blob/main/bdgd2opendss_colab_integration.ipynb\" target=\"_parent\"><img src=\"https://colab.research.google.com/assets/colab-badge.svg\" alt=\"Open In Colab\"/></a>"
      ]
    },
    {
      "cell_type": "markdown",
      "source": [
        "## 🚀 Clonagem do Repositório e Instalação do Pacote\n",
        "\n",
        "Nesta etapa inicial, realizamos a preparação do ambiente para utilizar o pacote `bdgd2opendss`. O que acontece aqui:\n",
        "\n",
        "1. **Clonamos o repositório** diretamente do GitHub para o ambiente do Colab.\n",
        "2. **Acessamos a pasta** onde está o arquivo `setup.py`, necessário para instalação.\n",
        "3. **Instalamos o pacote em modo editável** (`pip install -e .`), permitindo modificar o código e ver as alterações sem reinstalar.\n",
        "4. Por fim, **voltamos para a pasta padrão do Colab** (`/content/`) para manter a organização do workspace.\n",
        "\n",
        "Esse passo é essencial para garantir que todos os módulos e funções do pacote fiquem disponíveis para uso nas próximas células."
      ],
      "metadata": {
        "id": "XAxtFvrWa5Ve"
      }
    },
    {
      "cell_type": "code",
      "execution_count": null,
      "metadata": {
        "id": "9Yr_n-lZwMxp"
      },
      "outputs": [],
      "source": [
        "# Clonar o repositório\n",
        "!git clone https://github.com/pauloradatz/bdgd2opendss.git\n",
        "\n",
        "# Mudar para o diretório onde está o setup.py\n",
        "%cd /content/bdgd2opendss/\n",
        "# Instalar os requisitos corretamente\n",
        "!pip install -e .\n",
        "\n",
        "# Volta para o diretório de trabalho padrão do Colab (opcional, mas boa prática)\n",
        "%cd /content/"
      ]
    },
    {
      "cell_type": "markdown",
      "source": [
        "## 📁 Upload de Arquivo ZIP\n",
        "\n",
        "Agora é hora de enviar os dados para o ambiente do Colab!\n",
        "\n",
        "Com o comando `files.upload()`, será exibido um botão para selecionar e enviar arquivos diretamente do seu computador. Neste caso, espera-se que você envie um **arquivo `.zip`** contendo os dados do projeto a serem processados.\n",
        "\n",
        "🔧 O arquivo enviado será armazenado automaticamente na pasta padrão do Colab: `/content/`.\n",
        "\n",
        "➡️ Após o upload, o script usará esse arquivo para extração e processamento nas próximas etapas."
      ],
      "metadata": {
        "id": "3UImlKROa_M-"
      }
    },
    {
      "cell_type": "code",
      "source": [
        "from google.colab import files\n",
        "uploaded = files.upload()"
      ],
      "metadata": {
        "id": "1N_71HlWXNLF"
      },
      "execution_count": null,
      "outputs": []
    },
    {
      "cell_type": "markdown",
      "source": [
        "## 📦 Extração do Arquivo ZIP e Identificação da Pasta\n",
        "\n",
        "Com o arquivo `.zip` já carregado, agora seguimos com:\n",
        "\n",
        "1. **Identificação do nome do arquivo enviado**, para acessar seu caminho completo.\n",
        "2. **Extração do conteúdo** do `.zip` diretamente na pasta `/content/` do Colab.\n",
        "3. **Leitura da estrutura interna do `.zip`**, identificando a **pasta raiz criada** dentro dele (caso exista).\n",
        "4. Armazenamos o caminho da pasta extraída na variável `pasta_extraida_path`, que será utilizada nas etapas seguintes do processamento.\n",
        "\n",
        "🧠 Essa lógica permite que o código funcione mesmo que o nome da pasta dentro do `.zip` varie entre execuções, tornando o processo mais robusto e automático."
      ],
      "metadata": {
        "id": "kQ-Ui3l4dV4V"
      }
    },
    {
      "cell_type": "code",
      "source": [
        "import zipfile\n",
        "import os\n",
        "\n",
        "# Passo 2: Obter o nome do arquivo enviado\n",
        "zip_filename = next(iter(uploaded))  # Pega o primeiro (e único) arquivo enviado\n",
        "zip_path = f\"/content/{zip_filename}\"\n",
        "\n",
        "# Passo 3: Extrair o zip para /content/\n",
        "with zipfile.ZipFile(zip_path, 'r') as zip_ref:\n",
        "    zip_ref.extractall(\"/content/\")\n",
        "\n",
        "# Passo 4: Identificar a pasta criada\n",
        "# Obtemos a lista de itens extraídos que estão no zip\n",
        "conteudo_zip = zip_ref.namelist()\n",
        "\n",
        "# Pegamos o primeiro diretório presente no .zip\n",
        "# (caso o zip crie uma pasta raiz dentro dele)\n",
        "pasta_raiz = conteudo_zip[0].split('/')[0]  # Extrai a primeira parte antes da \"/\"\n",
        "pasta_extraida_path = os.path.join('/content', pasta_raiz)\n",
        "\n",
        "# Mostra a pasta extraída\n",
        "print(f\"Pasta extraída: {pasta_extraida_path}\")"
      ],
      "metadata": {
        "id": "IVTUl-FoO7V8"
      },
      "execution_count": null,
      "outputs": []
    },
    {
      "cell_type": "markdown",
      "source": [
        "## 📦🔽 Função para Compactar e Baixar Resultados\n",
        "\n",
        "Nesta célula, definimos uma função chamada `compactar_e_baixar(pasta_origem)`, que será usada ao final do processamento para facilitar o download dos resultados.\n",
        "\n",
        "### O que ela faz:\n",
        "1. **Verifica** se a pasta informada realmente existe.\n",
        "2. **Compacta a pasta** no formato `.zip`, com o mesmo nome da pasta original.\n",
        "3. **Inicia automaticamente o download** do arquivo `.zip` para o seu computador, usando a função `files.download()` do Colab.\n",
        "\n",
        "📁 Essa função será chamada depois que os arquivos de saída forem gerados, tornando o fluxo de trabalho mais prático e sem necessidade de buscas manuais."
      ],
      "metadata": {
        "id": "YpzfUnrCbe-v"
      }
    },
    {
      "cell_type": "code",
      "source": [
        "import shutil\n",
        "from google.colab import files\n",
        "import os\n",
        "\n",
        "def compactar_e_baixar(pasta_origem):\n",
        "    if not os.path.isdir(pasta_origem):\n",
        "        raise ValueError(f\"A pasta '{pasta_origem}' não existe.\")\n",
        "\n",
        "    # Gera o caminho do arquivo zip com o mesmo nome da pasta\n",
        "    nome_zip = os.path.basename(pasta_origem.rstrip('/')) + '.zip'\n",
        "    caminho_zip = os.path.join('/content', nome_zip)\n",
        "\n",
        "    # Compacta a pasta\n",
        "    shutil.make_archive(base_name=caminho_zip.replace('.zip', ''), format='zip', root_dir=pasta_origem)\n",
        "\n",
        "    # Inicia o download do arquivo zipado\n",
        "    files.download(caminho_zip)"
      ],
      "metadata": {
        "id": "DgZmi1MzWkPe"
      },
      "execution_count": 5,
      "outputs": []
    },
    {
      "cell_type": "markdown",
      "source": [
        "## 🛠️ Correção de Compatibilidade no Código Fonte\n",
        "\n",
        "Alguns ambientes, como o Google Colab, não possuem certos módulos disponíveis por padrão. Nesta célula, fazemos uma **modificação automática** no arquivo `Transformer.py` do repositório `bdgd2opendss` para evitar erros de importação.\n",
        "\n",
        "### O que esta célula faz:\n",
        "1. Verifica se o arquivo `Transformer.py` existe no caminho esperado.\n",
        "2. Lê todo o conteúdo do arquivo.\n",
        "3. **Remove a linha** `from idlelib.pyparse import trans`, que causa erro no Colab por depender de um módulo específico do IDLE.\n",
        "4. Regrava o arquivo sem essa linha, tornando o código funcional no ambiente atual.\n",
        "\n",
        "✅ Esse passo garante que o pacote esteja pronto para uso sem necessidade de intervenção manual."
      ],
      "metadata": {
        "id": "Z6c4jHC-boSW"
      }
    },
    {
      "cell_type": "code",
      "source": [
        "import os\n",
        "\n",
        "# Define o caminho completo para o arquivo Transformer.py\n",
        "file_path = \"/content/bdgd2opendss/bdgd2opendss/model/Transformer.py\" # Verifique se este caminho está correto após a clonagem\n",
        "\n",
        "# Verifica se o arquivo existe\n",
        "if not os.path.exists(file_path):\n",
        "    print(f\"Erro: O arquivo '{file_path}' não foi encontrado. Certifique-se de que o caminho está correto e os arquivos foram carregados no Colab.\")\n",
        "else:\n",
        "    try:\n",
        "        # Lê todas as linhas do arquivo\n",
        "        with open(file_path, \"r\", encoding=\"utf-8\") as f:\n",
        "            lines = f.readlines()\n",
        "\n",
        "        # Filtra a linha indesejada\n",
        "        # A linha específica a ser removida é 'from idlelib.pyparse import trans'\n",
        "        filtered_lines = [\n",
        "            line for line in lines\n",
        "            if \"from idlelib.pyparse import trans\" not in line\n",
        "        ]\n",
        "\n",
        "        # Escreve as linhas filtradas de volta no arquivo\n",
        "        with open(file_path, \"w\", encoding=\"utf-8\") as f:\n",
        "            f.writelines(filtered_lines)\n",
        "\n",
        "        print(f\"A linha 'from idlelib.pyparse import trans' foi removida de '{file_path}'.\")\n",
        "        print(\"O arquivo foi modificado com sucesso para ser compatível com o Google Colab.\")\n",
        "\n",
        "    except Exception as e:\n",
        "        print(f\"Ocorreu um erro ao processar o arquivo '{file_path}': {e}\")"
      ],
      "metadata": {
        "id": "8U9FNOWsCQIE"
      },
      "execution_count": null,
      "outputs": []
    },
    {
      "cell_type": "markdown",
      "source": [
        "## 🚀 Execução do Processamento e Preparação Final dos Resultados\n",
        "\n",
        "Nesta célula, realizamos as etapas finais para garantir que tudo funcione corretamente no ambiente do Google Colab:\n",
        "\n",
        "### 🔧 Configurações e Ajustes\n",
        "- Adicionamos o repositório clonado (`/content/bdgd2opendss`) ao `sys.path`, permitindo a importação de módulos personalizados.\n",
        "- Garantimos a existência dos arquivos `__init__.py`, que tornam diretórios válidos como pacotes Python.\n",
        "- Suprimimos *warnings* desnecessários para manter a saída do notebook limpa.\n",
        "\n",
        "### 📥 Importação da Função Principal\n",
        "- Importamos a função `run()` do módulo principal, responsável por processar os dados do BDGD e gerar os arquivos desejados.\n",
        "\n",
        "### ⚙️ Execução do Pipeline\n",
        "- Definimos os parâmetros de entrada:\n",
        "  - `bdgd_file_path`: caminho da pasta extraída com os arquivos `.dss`\n",
        "  - `lst_feeders`: lista com os nomes dos alimentadores a serem processados\n",
        "  - `output_folder`: pasta onde os resultados serão salvos\n",
        "- Chamamos a função `run(...)` com os parâmetros definidos.\n",
        "- Por fim, compactamos a pasta de saída gerada e iniciamos automaticamente o download dos resultados usando a função `compactar_e_baixar`.\n",
        "\n",
        "✅ **Tudo pronto!** Ao final desta célula, seus dados terão sido processados e você poderá baixar os resultados em formato `.zip`."
      ],
      "metadata": {
        "id": "7VeJywIbbszH"
      }
    },
    {
      "cell_type": "code",
      "source": [
        "import sys\n",
        "import pathlib\n",
        "import os\n",
        "import warnings\n",
        "\n",
        "# Define o diretório raiz do repositório clonado\n",
        "# Certifique-se de que '/content/bdgd2opendss' é o caminho correto onde seu repositório foi clonado.\n",
        "repo_root_path = '/content/bdgd2opendss'\n",
        "sys.path.append(repo_root_path)\n",
        "\n",
        "# Define os caminhos para os arquivos __init__.py que podem estar faltando\n",
        "package_init_path = os.path.join(repo_root_path, 'bdgd2opendss', '__init__.py')\n",
        "core_init_path = os.path.join(repo_root_path, 'bdgd2opendss', 'core', '__init__.py')\n",
        "\n",
        "# Função para criar arquivos __init__.py se não existirem\n",
        "def create_init_file_if_not_exists(path):\n",
        "    if not os.path.exists(path):\n",
        "        os.makedirs(os.path.dirname(path), exist_ok=True)\n",
        "        with open(path, 'w') as f:\n",
        "            pass # Cria um arquivo vazio\n",
        "        print(f\"Arquivo __init__.py criado em: {path}\")\n",
        "    else:\n",
        "        print(f\"Arquivo __init__.py já existe em: {path}\")\n",
        "\n",
        "# Cria os arquivos __init__.py necessários\n",
        "create_init_file_if_not_exists(package_init_path)\n",
        "create_init_file_if_not_exists(core_init_path)\n",
        "\n",
        "\n",
        "# Suppress RuntimeWarnings globally\n",
        "warnings.filterwarnings(\"ignore\", category=RuntimeWarning)\n",
        "warnings.filterwarnings(\"ignore\", category=FutureWarning)\n",
        "\n",
        "# Agora podemos importar a função 'run'\n",
        "from bdgd2opendss.core.Core import run\n",
        "\n",
        "if __name__ == '__main__':\n",
        "    # Em ambientes como o Google Colab ou Jupyter Notebooks, __file__ pode não estar definido.\n",
        "    # Usamos os.getcwd() para obter o diretório de trabalho atual do notebook.\n",
        "    script_path = os.getcwd()\n",
        "    print(f\"O diretório atual do script é: {script_path}\") # Adicionado para fins de depuração\n",
        "\n",
        "    bdgd_file_path = pasta_extraida_path\n",
        "    lst_feeders = [\"1325_013_1\"]\n",
        "    output_folder = \"/content/\"\n",
        "\n",
        "    # Agora a função 'run' é importada diretamente, então podemos chamá-la sem prefixo\n",
        "    run(bdgd_file_path=bdgd_file_path, output_folder=output_folder, lst_feeders=lst_feeders, all_feeders=False)\n",
        "\n",
        "    for feeder in lst_feeders:\n",
        "      caminho = output_folder + feeder\n",
        "      compactar_e_baixar(caminho)\n"
      ],
      "metadata": {
        "id": "lUAGgYf3wx6W"
      },
      "execution_count": null,
      "outputs": []
    }
  ]
}