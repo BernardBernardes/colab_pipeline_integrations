{
  "nbformat": 4,
  "nbformat_minor": 0,
  "metadata": {
    "colab": {
      "provenance": [],
      "authorship_tag": "ABX9TyOoqiNANUyrxhfbf9zrDTGW",
      "include_colab_link": true
    },
    "kernelspec": {
      "name": "python3",
      "display_name": "Python 3"
    },
    "language_info": {
      "name": "python"
    }
  },
  "cells": [
    {
      "cell_type": "markdown",
      "metadata": {
        "id": "view-in-github",
        "colab_type": "text"
      },
      "source": [
        "<a href=\"https://colab.research.google.com/github/BernardBernardes/py_dss_interface_colab_integration/blob/main/py_dss_interface_google_colab_integration.ipynb\" target=\"_parent\"><img src=\"https://colab.research.google.com/assets/colab-badge.svg\" alt=\"Open In Colab\"/></a>"
      ]
    },
    {
      "cell_type": "markdown",
      "source": [
        "📦 Instalação do py_dss_interface no Google Colab\n",
        "\n",
        "Nesta etapa, vamos clonar o repositório da biblioteca `py_dss_interface` diretamente do GitHub,\n",
        "compilar o OpenDSS para Linux (necessário no ambiente do Google Colab) e instalar a biblioteca no modo \"editável\".\n",
        "Isso permite usar a interface do OpenDSS diretamente em Python, o que será útil para simular circuitos e acessar seus resultados via código.\n",
        "\n",
        "⚠️ Esta instalação é necessária apenas no Google Colab. Em computadores com OpenDSS instalado no Windows, isso não é necessário.\n",
        "\n",
        "🔧 Etapas:\n",
        "- Clona o repositório do py_dss_interface\n",
        "- Compila a versão do OpenDSS para Linux (via script bash)\n",
        "- Instala o pacote no modo editável\n",
        "\n"
      ],
      "metadata": {
        "id": "KyYIumLa483a"
      }
    },
    {
      "cell_type": "code",
      "source": [
        "# Passo 1. Clona e instala py_dss_interface em modo editável\n",
        "!git clone https://github.com/PauloRadatz/py_dss_interface.git\n",
        "%cd py_dss_interface\n",
        "!bash OpenDSSLinuxCPPForRepo.sh\n",
        "!pip install -e ."
      ],
      "metadata": {
        "id": "jejEMeZUbhew"
      },
      "execution_count": null,
      "outputs": []
    },
    {
      "cell_type": "markdown",
      "source": [
        "🔁 Reinício obrigatório do ambiente\n",
        "\n",
        "Após instalar a biblioteca `py_dss_interface`, o ambiente do Google Colab precisa ser reiniciado\n",
        "para que as alterações (especialmente as bibliotecas nativas em C++) sejam carregadas corretamente.\n",
        "Esta reinicialização será feita automaticamente pelo comando abaixo.\n",
        "\n",
        "⚠️ Após rodar esta célula, o Colab será reiniciado automaticamente e apresentará uma mensagem de interrompimento de execução.\n",
        "Será necessário reexecutar as células a partir do passo 3."
      ],
      "metadata": {
        "id": "FyTiTfpS5YSY"
      }
    },
    {
      "cell_type": "code",
      "source": [
        "# Passo 2. Reinicia o ambiente (obrigatório após instalar pacotes com bindings nativos)\n",
        "import os\n",
        "os.kill(os.getpid(), 9)"
      ],
      "metadata": {
        "id": "fBsOoxRVbiTA"
      },
      "execution_count": null,
      "outputs": []
    },
    {
      "cell_type": "markdown",
      "source": [
        "📁 Clonar exemplos de circuitos em OpenDSS\n",
        "\n",
        "Agora vamos clonar o repositório com exemplos de circuitos em OpenDSS utilizados nos testes da biblioteca `py_dss_interface`.\n",
        "Esses exemplos incluem circuitos clássicos (como o IEEE 13 nós), com arquivos `.dss` já preparados para simulação.\n",
        "\n",
        "Usaremos esses arquivos para testar a interface com o OpenDSS, explorar os comandos e extrair dados como tensões, potências e configurações de carga.\n",
        "\n",
        "✅ Após clonar, os arquivos estarão disponíveis nos caminho:\n",
        "\n",
        "/content/EPRI-OpenDSS-Examples"
      ],
      "metadata": {
        "id": "Ke821bKkDg4y"
      }
    },
    {
      "cell_type": "code",
      "source": [
        "# Passo 3. Clona exemplos\n",
        "!git clone https://github.com/BernardBernardes/EPRI-OpenDSS-Examples.git"
      ],
      "metadata": {
        "id": "__b0ujyObkkA"
      },
      "execution_count": null,
      "outputs": []
    },
    {
      "cell_type": "markdown",
      "source": [
        "📌 Definir o arquivo Master do circuito OpenDSS\n",
        "\n",
        "Nesta etapa, você deve indicar o caminho completo até o arquivo `.dss` principal do circuito,\n",
        "também conhecido como \"arquivo Master\". É esse arquivo que o OpenDSS irá processar inicialmente.\n",
        "\n",
        "Ele geralmente contém comandos `Redirect` para os demais arquivos que compõem o circuito (cargas, linhas, loadshapes etc). modifique o perâmetro file_full_path com o caminho e o nome do arquivo desejado (basta navegar até o arquivo, nas opções à esquerda, clicar nos três pontos a direta do nome do arquivo e copiar o caminho. Por exemplo, para abrir o circuito IEEE 13 Barras exportado no py-dss-interface-examples:\n",
        "\n",
        "**file_full_path = \"/content/py-dss-interface-examples/feeders/13Bus/IEEE13Nodeckt.dss\"**\n",
        "\n",
        "✅ Se quiser usar outro circuito, basta substituir o caminho acima pelo novo arquivo Master desejado."
      ],
      "metadata": {
        "id": "IfBmYFWfEnYg"
      }
    },
    {
      "cell_type": "code",
      "source": [
        "# 🔧🔧🔧 ATENÇÃO: MODIFIQUE AQUI 🔧🔧🔧\n",
        "# ======================================\n",
        "# Esta é a célula onde você indica o caminho e nome do arquivo Master.\n",
        "# ======================================\n",
        "\n",
        "# Passo 4. Caminho e Arquivo DSS do Master\n",
        "\n",
        "file_full_path = \"/content/Caso_Test/Master.dss\""
      ],
      "metadata": {
        "id": "gvYWw0gZv9T4"
      },
      "execution_count": null,
      "outputs": []
    },
    {
      "cell_type": "markdown",
      "source": [
        "📄 Leitura completa do circuito via arquivo Master (.dss)\n",
        "\n",
        "O OpenDSS utiliza a instrução `Redirect` nos arquivos `.dss` para incluir outros arquivos auxiliares\n",
        "(linhas, cargas, loadshapes, etc.). No ambiente do Google Colab, precisamos simular esse comportamento manualmente.\n",
        "\n",
        "A função abaixo lê o arquivo Master `.dss` linha por linha. Sempre que encontra um `Redirect`,\n",
        "ela abre o arquivo referenciado e também copia seu conteúdo.\n",
        "\n",
        "✅ Resultado: toda a definição do circuito (com arquivos incluídos) será carregada como uma única string Python."
      ],
      "metadata": {
        "id": "ET8VZLoNHGiA"
      }
    },
    {
      "cell_type": "markdown",
      "source": [
        "📄 Leitura e execução completa do circuito DSS no Python\n",
        "\n",
        "Agora que temos o caminho do arquivo Master (.dss), vamos criar uma função que:\n",
        "\n",
        "🔁 1. Lê o conteúdo desse arquivo linha por linha;\n",
        "\n",
        "🔍 2. Verifica se há comandos `Redirect` ou `Compile` que apontam para outros arquivos;\n",
        "\n",
        "📂 3. Em caso positivo, abre esses arquivos também, de forma recursiva;\n",
        "\n",
        "🔗 4. Junta tudo em uma única string com o circuito expandido.\n",
        "\n",
        "Após isso, usamos o `py_dss_interface` para:\n",
        "\n",
        "⚙️ - Instanciar o OpenDSS no Python\n",
        "\n",
        "💡 - Executar cada linha do circuito usando `dss.text(...)`"
      ],
      "metadata": {
        "id": "EwINsDyuJ-WD"
      }
    },
    {
      "cell_type": "code",
      "source": [
        "def ler_dss_expandido(caminho_arquivo , arquivos_processados=None):\n",
        "    import os\n",
        "\n",
        "    if arquivos_processados is None:\n",
        "        arquivos_processados = set()\n",
        "\n",
        "    conteudo = \"\"\n",
        "\n",
        "    # Evita redirecionamento em loop\n",
        "    caminho_arquivo = os.path.abspath(caminho_arquivo)\n",
        "    if caminho_arquivo in arquivos_processados:\n",
        "        print(f\"Aviso: Arquivo já processado (evitando ciclo): {caminho_arquivo}\")\n",
        "        return \"\"  # Não adiciona conteúdo novamente\n",
        "\n",
        "    arquivos_processados.add(caminho_arquivo)\n",
        "\n",
        "    with open(caminho_arquivo, 'r') as f:\n",
        "        for linha in f:\n",
        "            linha_strip = linha.strip()\n",
        "            if linha_strip.lower().startswith(\"redirect\") or linha_strip.lower().startswith(\"compile\"):\n",
        "                # Extrair o caminho do arquivo referenciado\n",
        "                caminho_referenciado = linha_strip.split(\" \", 1)[1].strip().replace('\"', '')\n",
        "\n",
        "                # Montar caminho absoluto\n",
        "                diretorio_base = os.path.dirname(caminho_arquivo)\n",
        "                caminho_completo = os.path.join(diretorio_base, caminho_referenciado)\n",
        "\n",
        "                # Chamada recursiva para expandir arquivos referenciados\n",
        "                conteudo += ler_dss_expandido(caminho_completo)\n",
        "            else:\n",
        "                conteudo += linha\n",
        "\n",
        "    return conteudo\n",
        "\n",
        "# Usar a função passando o caminho do arquivo Master\n",
        "codigo_dss = ler_dss_expandido(file_full_path)\n",
        "#print(codigo_dss)\n",
        "\n",
        "\n",
        "import py_dss_interface\n",
        "\n",
        "# Instancia o OpenDSS\n",
        "dss = py_dss_interface.DSS()\n",
        "dss.text(\"clear\")\n",
        "\n",
        "# lista de comando que podem travar a execução\n",
        "comandos_proibidos = [\"redirect\", \"compile\", \"clear\", \"reset\", \"show\", \"plot\", \"solve\", \"visualize\"]\n",
        "\n",
        "# Passa cada linha do dss expandido como comando\n",
        "for linha in codigo_dss.splitlines():\n",
        "    linha = linha.strip()\n",
        "\n",
        "    if not linha or any(linha.lower().startswith(cmd) for cmd in comandos_proibidos):\n",
        "        continue  # pula linhas perigosas\n",
        "\n",
        "    linha_ascii = linha.encode(\"ascii\", errors=\"ignore\").decode()  # remove os acentos\n",
        "    #print(linha_ascii)\n",
        "    dss.text(linha_ascii)"
      ],
      "metadata": {
        "id": "iVPSkda2Iqph"
      },
      "execution_count": null,
      "outputs": []
    },
    {
      "cell_type": "markdown",
      "source": [
        "**⚡ Execução do circuito e extração de resultados**\n",
        "\n",
        "**A partir deste ponto, o circuito já foi totalmente carregado na engine do OpenDSS via py_dss_interface.**\n",
        "**Agora, resolvemos o circuito com o comando `solve` e extraímos as informações desejadas.**\n",
        "\n",
        "**🧠 É neste bloco em diante que as alterações no código devem ser feitas pelos alunos, para realizar simulações, modificar parâmetros visualizar resultados ou exportar arquivos.**\n",
        "\n",
        "**📌 Exemplos comuns de modificações:**\n",
        "*   **Inserir cargas ou elementos**\n",
        "*   **Alterar perfis de carga, geração e outros**\n",
        "*   **Executar diferentes modos de simulação**\n",
        "*   **Exportar e plotar relatórios para análise externa**\n",
        "*   **- Etc...**\n",
        "\n",
        "\n",
        "\n",
        "\n",
        "\n",
        "\n",
        "\n"
      ],
      "metadata": {
        "id": "73V6KpPBLQ5a"
      }
    },
    {
      "cell_type": "code",
      "source": [
        "from posixpath import basename\n",
        "# 🔧🔧🔧 ATENÇÃO: MODIFIQUE AQUI 🔧🔧🔧\n",
        "# ======================================\n",
        "# Esta é a célula principal onde você pode alterar parâmetros,\n",
        "# adicionar elementos ou extrair novos resultados.\n",
        "# ======================================\n",
        "#dss.text(\"New monitor.B160 Element=Line.L110 terminal=2 mode=1 ppolar=n\")\n",
        "\n",
        "#dss.text(\"Set mode=Daily\")\n",
        "#dss.text(\"Set stepsize=1\")\n",
        "#dss.text(\"Set Number=24\")\n",
        "\n",
        "print(dss.pvsystems.names)\n",
        "dss.pvsystems.name = \"pv\"\n",
        "dss.pvsystems.pf = 0.8\n",
        "\n",
        "dss.text(\"solve\")\n",
        "\n",
        "arquivo_result = dss.text(\"Export monitor PV_voltage\")\n",
        "\n",
        "#print(\"Barras: \", dss.circuit.buses_names)\n",
        "print(\"Quant Barra: \", dss.circuit.num_buses)\n",
        "#print(\"Linhas:\", dss.lines.names)\n",
        "print(\"Quant Linhas: \", dss.lines.count)\n",
        "print(\" \")\n",
        "print(\"Potência total:\", dss.circuit.total_power)\n",
        "\n",
        "\n",
        "\n",
        "arquivo_result = dss.text(\"Export Result\")\n",
        "\n",
        "## Esse código serve apenas para mover o arquivo gerado com o código Export para\n",
        "## uma pasta desejada, por exemplo a pasta /content'\n",
        "import os\n",
        "import shutil\n",
        "\n",
        "arquivo_copiado = os.path.basename(arquivo_result)\n",
        "arquivo_copiado = os.path.join(\"/content/\",arquivo_copiado)\n",
        "shutil.move(arquivo_result, arquivo_copiado)"
      ],
      "metadata": {
        "id": "FtkWCPUc1tqo"
      },
      "execution_count": null,
      "outputs": []
    }
  ]
}